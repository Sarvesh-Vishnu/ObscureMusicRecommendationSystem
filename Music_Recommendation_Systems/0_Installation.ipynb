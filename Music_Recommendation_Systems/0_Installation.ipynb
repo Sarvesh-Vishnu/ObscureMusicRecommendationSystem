{
 "cells": [
  {
   "cell_type": "code",
   "execution_count": 1,
   "id": "49c905c7",
   "metadata": {},
   "outputs": [
    {
     "name": "stdout",
     "output_type": "stream",
     "text": [
      "Python 3.11.5\n"
     ]
    }
   ],
   "source": [
    "!python --version"
   ]
  },
  {
   "cell_type": "code",
   "execution_count": 8,
   "id": "9f9eb296",
   "metadata": {},
   "outputs": [
    {
     "name": "stdout",
     "output_type": "stream",
     "text": [
      "Name: spotipy\n",
      "Version: 2.23.0\n",
      "Summary: A light weight Python library for the Spotify Web API\n",
      "Home-page: https://spotipy.readthedocs.org/\n",
      "Author: @plamere\n",
      "Author-email: paul@echonest.com\n",
      "License: MIT\n",
      "Location: C:\\Users\\Sarvesh\\anaconda3\\Lib\\site-packages\n",
      "Requires: redis, requests, six, urllib3\n",
      "Required-by: \n"
     ]
    }
   ],
   "source": [
    "!pip show spotipy"
   ]
  },
  {
   "cell_type": "code",
   "execution_count": 7,
   "id": "9f65972d",
   "metadata": {},
   "outputs": [
    {
     "name": "stdout",
     "output_type": "stream",
     "text": [
      "Collecting spotipy\n",
      "  Downloading spotipy-2.23.0-py3-none-any.whl (29 kB)\n",
      "Collecting redis>=3.5.3 (from spotipy)\n",
      "  Obtaining dependency information for redis>=3.5.3 from https://files.pythonhosted.org/packages/0b/34/a01250ac1fc9bf9161e07956d2d580413106ce02d5591470130a25c599e3/redis-5.0.1-py3-none-any.whl.metadata\n",
      "  Downloading redis-5.0.1-py3-none-any.whl.metadata (8.9 kB)\n",
      "Requirement already satisfied: requests>=2.25.0 in c:\\users\\sarvesh\\anaconda3\\lib\\site-packages (from spotipy) (2.31.0)\n",
      "Requirement already satisfied: six>=1.15.0 in c:\\users\\sarvesh\\anaconda3\\lib\\site-packages (from spotipy) (1.16.0)\n",
      "Requirement already satisfied: urllib3>=1.26.0 in c:\\users\\sarvesh\\anaconda3\\lib\\site-packages (from spotipy) (1.26.16)\n",
      "Requirement already satisfied: charset-normalizer<4,>=2 in c:\\users\\sarvesh\\anaconda3\\lib\\site-packages (from requests>=2.25.0->spotipy) (2.0.4)\n",
      "Requirement already satisfied: idna<4,>=2.5 in c:\\users\\sarvesh\\anaconda3\\lib\\site-packages (from requests>=2.25.0->spotipy) (3.4)\n",
      "Requirement already satisfied: certifi>=2017.4.17 in c:\\users\\sarvesh\\anaconda3\\lib\\site-packages (from requests>=2.25.0->spotipy) (2023.11.17)\n",
      "Downloading redis-5.0.1-py3-none-any.whl (250 kB)\n",
      "   ---------------------------------------- 0.0/250.3 kB ? eta -:--:--\n",
      "   - -------------------------------------- 10.2/250.3 kB ? eta -:--:--\n",
      "   -------------- ------------------------- 92.2/250.3 kB 1.3 MB/s eta 0:00:01\n",
      "   ---------------------------------------  245.8/250.3 kB 2.1 MB/s eta 0:00:01\n",
      "   ---------------------------------------- 250.3/250.3 kB 1.9 MB/s eta 0:00:00\n",
      "Installing collected packages: redis, spotipy\n",
      "Successfully installed redis-5.0.1 spotipy-2.23.0\n"
     ]
    }
   ],
   "source": [
    "!pip install spotipy --upgrade"
   ]
  }
 ],
 "metadata": {
  "kernelspec": {
   "display_name": "Python 3 (ipykernel)",
   "language": "python",
   "name": "python3"
  },
  "language_info": {
   "codemirror_mode": {
    "name": "ipython",
    "version": 3
   },
   "file_extension": ".py",
   "mimetype": "text/x-python",
   "name": "python",
   "nbconvert_exporter": "python",
   "pygments_lexer": "ipython3",
   "version": "3.11.5"
  }
 },
 "nbformat": 4,
 "nbformat_minor": 5
}
